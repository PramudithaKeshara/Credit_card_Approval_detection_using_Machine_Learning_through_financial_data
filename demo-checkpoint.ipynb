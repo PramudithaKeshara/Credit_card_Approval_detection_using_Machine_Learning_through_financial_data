{
 "cells": [
  {
   "cell_type": "markdown",
   "metadata": {},
   "source": [
    "# **Credit Card Fraud Detection**\n",
    "#### **Steps:**\n",
    "1. Data Collection\n",
    "2. Data Preparing\n",
    "3. Data Preprocessing\n",
    "4. Exploratory Data Analysis\n",
    "5. Data Transformation\n",
    "6. Model Building\n",
    "7. Model Evaluation"
   ]
  },
  {
   "cell_type": "code",
   "execution_count": 1,
   "metadata": {},
   "outputs": [],
   "source": [
    "# Install Requirements:\n",
    "# !pip install -r requirements.txt"
   ]
  },
  {
   "cell_type": "code",
   "execution_count": 2,
   "metadata": {},
   "outputs": [
    {
     "name": "stdout",
     "output_type": "stream",
     "text": [
      "<class 'OSError'> <class 'ValueError'>\n",
      "<class 'OSError'> <class 'ValueError'>\n",
      "<class 'OSError'> <class 'ValueError'>\n",
      "<class 'OSError'> <class 'ValueError'>\n",
      "<class 'OSError'> <class 'ValueError'>\n",
      "<class 'OSError'> <class 'ValueError'>\n",
      "<class 'OSError'> <class 'ValueError'>\n",
      "<class 'OSError'> <class 'ValueError'>\n",
      "<class 'OSError'> <class 'ValueError'>\n",
      "<class 'OSError'> <class 'ValueError'>\n",
      "<class 'OSError'> <class 'ValueError'>\n",
      "<class 'OSError'> <class 'ValueError'>\n",
      "<class 'OSError'> <class 'ValueError'>\n",
      "<class 'OSError'> <class 'ValueError'>\n",
      "<class 'OSError'> <class 'ValueError'>\n",
      "<class 'OSError'> <class 'ValueError'>\n",
      "<class 'OSError'> <class 'ValueError'>\n",
      "<class 'OSError'> <class 'ValueError'>\n",
      "<class 'OSError'> <class 'ValueError'>\n",
      "<class 'OSError'> <class 'ValueError'>\n",
      "<class 'OSError'> <class 'ValueError'>\n",
      "<class 'OSError'> <class 'ValueError'>\n",
      "<class 'OSError'> <class 'ValueError'>\n",
      "<class 'OSError'> <class 'ValueError'>\n",
      "<class 'OSError'> <class 'ValueError'>\n",
      "<class 'OSError'> <class 'ValueError'>\n",
      "<class 'OSError'> <class 'ValueError'>\n",
      "<class 'OSError'> <class 'ValueError'>\n",
      "<class 'OSError'> <class 'ValueError'>\n",
      "<class 'OSError'> <class 'ValueError'>\n",
      "<class 'OSError'> <class 'ValueError'>\n",
      "<class 'OSError'> <class 'ValueError'>\n",
      "<class 'OSError'> <class 'ValueError'>\n",
      "<class 'OSError'> <class 'ValueError'>\n",
      "<class 'OSError'> <class 'ValueError'>\n",
      "<class 'OSError'> <class 'ValueError'>\n",
      "<class 'OSError'> <class 'ValueError'>\n",
      "<class 'OSError'> <class 'ValueError'>\n",
      "<class 'OSError'> <class 'ValueError'>\n",
      "<class 'OSError'> <class 'ValueError'>\n",
      "<class 'OSError'> <class 'ValueError'>\n",
      "<class 'OSError'> <class 'ValueError'>\n",
      "<class 'OSError'> <class 'ValueError'>\n",
      "<class 'OSError'> <class 'ValueError'>\n",
      "<class 'OSError'> <class 'ValueError'>\n",
      "<class 'OSError'> <class 'ValueError'>\n",
      "<class 'OSError'> <class 'ValueError'>\n",
      "<class 'OSError'> <class 'ValueError'>\n",
      "<class 'OSError'> <class 'ValueError'>\n",
      "<class 'OSError'> <class 'ValueError'>\n",
      "<class 'OSError'> <class 'ValueError'>\n",
      "<class 'OSError'> <class 'ValueError'>\n",
      "<class 'OSError'> <class 'ValueError'>\n",
      "<class 'OSError'> <class 'ValueError'>\n",
      "<class 'OSError'> <class 'ValueError'>\n",
      "<class 'OSError'> <class 'ValueError'>\n",
      "<class 'OSError'> <class 'ValueError'>\n",
      "<class 'OSError'> <class 'ValueError'>\n",
      "<class 'OSError'> <class 'ValueError'>\n",
      "<class 'OSError'> <class 'ValueError'>\n",
      "<class 'OSError'> <class 'ValueError'>\n",
      "<class 'OSError'> <class 'ValueError'>\n",
      "<class 'OSError'> <class 'ValueError'>\n",
      "<class 'OSError'> <class 'ValueError'>\n",
      "<class 'OSError'> <class 'ValueError'>\n",
      "<class 'OSError'> <class 'ValueError'>\n",
      "<class 'OSError'> <class 'ValueError'>\n",
      "<class 'OSError'> <class 'ValueError'>\n",
      "<class 'OSError'> <class 'ValueError'>\n",
      "<class 'OSError'> <class 'ValueError'>\n",
      "<class 'OSError'> <class 'ValueError'>\n",
      "<class 'OSError'> <class 'ValueError'>\n",
      "<class 'OSError'> <class 'ValueError'>\n",
      "<class 'OSError'> <class 'ValueError'>\n",
      "<class 'OSError'> <class 'ValueError'>\n",
      "<class 'OSError'> <class 'ValueError'>\n",
      "<class 'OSError'> <class 'ValueError'>\n",
      "<class 'OSError'> <class 'ValueError'>\n",
      "<class 'OSError'> <class 'ValueError'>\n",
      "<class 'OSError'> <class 'ValueError'>\n",
      "<class 'OSError'> <class 'ValueError'>\n",
      "<class 'OSError'> <class 'ValueError'>\n",
      "<class 'OSError'> <class 'ValueError'>\n",
      "<class 'OSError'> <class 'ValueError'>\n",
      "<class 'OSError'> <class 'ValueError'>\n",
      "<class 'OSError'> <class 'ValueError'>\n",
      "<class 'OSError'> <class 'ValueError'>\n",
      "<class 'OSError'> <class 'ValueError'>\n",
      "<class 'OSError'> <class 'ValueError'>\n",
      "<class 'OSError'> <class 'ValueError'>\n",
      "<class 'OSError'> <class 'ValueError'>\n",
      "<class 'OSError'> <class 'ValueError'>\n",
      "<class 'OSError'> <class 'ValueError'>\n",
      "<class 'OSError'> <class 'ValueError'>\n",
      "<class 'OSError'> <class 'ValueError'>\n",
      "<class 'OSError'> <class 'ValueError'>\n",
      "<class 'OSError'> <class 'ValueError'>\n",
      "<class 'OSError'> <class 'ValueError'>\n",
      "<class 'OSError'> <class 'ValueError'>\n",
      "<class 'OSError'> <class 'ValueError'>\n",
      "<class 'OSError'> <class 'ValueError'>\n",
      "<class 'OSError'> <class 'ValueError'>\n",
      "<class 'OSError'> <class 'ValueError'>\n",
      "<class 'OSError'> <class 'ValueError'>\n",
      "<class 'OSError'> <class 'ValueError'>\n",
      "<class 'OSError'> <class 'ValueError'>\n",
      "<class 'OSError'> <class 'ValueError'>\n",
      "<class 'OSError'> <class 'ValueError'>\n",
      "<class 'OSError'> <class 'ValueError'>\n",
      "<class 'OSError'> <class 'ValueError'>\n",
      "<class 'OSError'> <class 'ValueError'>\n",
      "<class 'OSError'> <class 'ValueError'>\n",
      "<class 'OSError'> <class 'ValueError'>\n",
      "<class 'OSError'> <class 'ValueError'>\n",
      "<class 'OSError'> <class 'ValueError'>\n",
      "<class 'OSError'> <class 'ValueError'>\n",
      "<class 'OSError'> <class 'ValueError'>\n",
      "<class 'OSError'> <class 'ValueError'>\n",
      "<class 'OSError'> <class 'ValueError'>\n",
      "<class 'OSError'> <class 'ValueError'>\n",
      "<class 'OSError'> <class 'ValueError'>\n",
      "<class 'OSError'> <class 'ValueError'>\n",
      "<class 'OSError'> <class 'ValueError'>\n",
      "<class 'OSError'> <class 'ValueError'>\n",
      "<class 'OSError'> <class 'ValueError'>\n",
      "<class 'OSError'> <class 'ValueError'>\n",
      "<class 'OSError'> <class 'ValueError'>\n",
      "<class 'OSError'> <class 'ValueError'>\n",
      "<class 'OSError'> <class 'ValueError'>\n",
      "<class 'OSError'> <class 'ValueError'>\n",
      "<class 'OSError'> <class 'ValueError'>\n",
      "<class 'OSError'> <class 'ValueError'>\n",
      "<class 'OSError'> <class 'ValueError'>\n",
      "<class 'OSError'> <class 'ValueError'>\n",
      "<class 'OSError'> <class 'ValueError'>\n",
      "<class 'OSError'> <class 'ValueError'>\n",
      "<class 'OSError'> <class 'ValueError'>\n",
      "<class 'OSError'> <class 'ValueError'>\n",
      "<class 'OSError'> <class 'ValueError'>\n",
      "<class 'OSError'> <class 'ValueError'>\n",
      "<class 'OSError'> <class 'ValueError'>\n",
      "<class 'OSError'> <class 'ValueError'>\n",
      "<class 'OSError'> <class 'ValueError'>\n",
      "<class 'OSError'> <class 'ValueError'>\n",
      "<class 'OSError'> <class 'ValueError'>\n",
      "<class 'OSError'> <class 'ValueError'>\n",
      "<class 'OSError'> <class 'ValueError'>\n",
      "<class 'OSError'> <class 'ValueError'>\n",
      "<class 'OSError'> <class 'ValueError'>\n",
      "<class 'OSError'> <class 'ValueError'>\n",
      "<class 'OSError'> <class 'ValueError'>\n",
      "<class 'OSError'> <class 'ValueError'>\n",
      "<class 'OSError'> <class 'ValueError'>\n",
      "<class 'OSError'> <class 'ValueError'>\n",
      "<class 'OSError'> <class 'ValueError'>\n",
      "<class 'OSError'> <class 'ValueError'>\n",
      "<class 'OSError'> <class 'ValueError'>\n",
      "<class 'OSError'> <class 'ValueError'>\n",
      "<class 'OSError'> <class 'ValueError'>\n",
      "<class 'OSError'> <class 'ValueError'>\n",
      "<class 'OSError'> <class 'ValueError'>\n",
      "<class 'OSError'> <class 'ValueError'>\n",
      "<class 'OSError'> <class 'ValueError'>\n",
      "<class 'OSError'> <class 'ValueError'>\n",
      "<class 'OSError'> <class 'ValueError'>\n",
      "<class 'OSError'> <class 'ValueError'>\n",
      "<class 'OSError'> <class 'ValueError'>\n",
      "<class 'OSError'> <class 'ValueError'>\n",
      "<class 'OSError'> <class 'ValueError'>\n",
      "<class 'OSError'> <class 'ValueError'>\n",
      "<class 'OSError'> <class 'ValueError'>\n",
      "<class 'OSError'> <class 'ValueError'>\n",
      "<class 'OSError'> <class 'ValueError'>\n",
      "<class 'OSError'> <class 'ValueError'>\n",
      "<class 'OSError'> <class 'ValueError'>\n",
      "<class 'OSError'> <class 'ValueError'>\n",
      "<class 'OSError'> <class 'ValueError'>\n",
      "<class 'OSError'> <class 'ValueError'>\n",
      "<class 'OSError'> <class 'ValueError'>\n",
      "<class 'OSError'> <class 'ValueError'>\n",
      "<class 'OSError'> <class 'ValueError'>\n",
      "<class 'OSError'> <class 'ValueError'>\n",
      "<class 'OSError'> <class 'ValueError'>\n",
      "<class 'OSError'> <class 'ValueError'>\n",
      "<class 'OSError'> <class 'ValueError'>\n",
      "<class 'OSError'> <class 'ValueError'>\n",
      "<class 'OSError'> <class 'ValueError'>\n",
      "<class 'OSError'> <class 'ValueError'>\n",
      "<class 'OSError'> <class 'ValueError'>\n",
      "<class 'OSError'> <class 'ValueError'>\n",
      "<class 'OSError'> <class 'ValueError'>\n",
      "<class 'OSError'> <class 'ValueError'>\n",
      "<class 'OSError'> <class 'ValueError'>\n",
      "<class 'OSError'> <class 'ValueError'>\n",
      "<class 'OSError'> <class 'ValueError'>\n",
      "<class 'OSError'> <class 'ValueError'>\n",
      "<class 'OSError'> <class 'ValueError'>\n",
      "<class 'OSError'> <class 'ValueError'>\n",
      "<class 'OSError'> <class 'ValueError'>\n",
      "<class 'OSError'> <class 'ValueError'>\n",
      "<class 'OSError'> <class 'ValueError'>\n",
      "<class 'OSError'> <class 'ValueError'>\n",
      "<class 'OSError'> <class 'ValueError'>\n",
      "<class 'OSError'> <class 'ValueError'>\n",
      "<class 'OSError'> <class 'ValueError'>\n",
      "<class 'OSError'> <class 'ValueError'>\n",
      "<class 'OSError'> <class 'ValueError'>\n"
     ]
    }
   ],
   "source": [
    "# Importing Required Libraries for the Project\n",
    "\n",
    "import pandas as pd\n",
    "import numpy as np\n",
    "import seaborn as sns\n",
    "import matplotlib.pyplot as plt\n",
    "from sklearn.preprocessing import LabelEncoder\n",
    "from sklearn.model_selection import train_test_split\n",
    "from sklearn.ensemble import RandomForestClassifier\n",
    "from sklearn.metrics import classification_report, confusion_matrix, accuracy_score, plot_confusion_matrix\n",
    "from sklearn.preprocessing import StandardScaler\n",
    "from imblearn.over_sampling import SMOTE\n",
    "from sklearn.tree import DecisionTreeClassifier\n",
    "from sklearn.svm import SVC\n",
    "from sklearn.linear_model import LogisticRegression\n"
   ]
  },
  {
   "cell_type": "markdown",
   "metadata": {},
   "source": [
    "### **Data Collection and Description**"
   ]
  },
  {
   "cell_type": "code",
   "execution_count": 3,
   "metadata": {},
   "outputs": [
    {
     "data": {
      "text/html": [
       "<div>\n",
       "<style scoped>\n",
       "    .dataframe tbody tr th:only-of-type {\n",
       "        vertical-align: middle;\n",
       "    }\n",
       "\n",
       "    .dataframe tbody tr th {\n",
       "        vertical-align: top;\n",
       "    }\n",
       "\n",
       "    .dataframe thead th {\n",
       "        text-align: right;\n",
       "    }\n",
       "</style>\n",
       "<table border=\"1\" class=\"dataframe\">\n",
       "  <thead>\n",
       "    <tr style=\"text-align: right;\">\n",
       "      <th></th>\n",
       "      <th>Id</th>\n",
       "      <th>income</th>\n",
       "      <th>age</th>\n",
       "      <th>experience</th>\n",
       "      <th>married</th>\n",
       "      <th>house_ownership</th>\n",
       "      <th>car_ownership</th>\n",
       "      <th>profession</th>\n",
       "      <th>city</th>\n",
       "      <th>state</th>\n",
       "      <th>current_job_years</th>\n",
       "      <th>current_house_years</th>\n",
       "      <th>risk_flag</th>\n",
       "    </tr>\n",
       "  </thead>\n",
       "  <tbody>\n",
       "    <tr>\n",
       "      <th>0</th>\n",
       "      <td>1</td>\n",
       "      <td>1303835</td>\n",
       "      <td>23</td>\n",
       "      <td>3</td>\n",
       "      <td>single</td>\n",
       "      <td>rented</td>\n",
       "      <td>no</td>\n",
       "      <td>Mechanical_engineer</td>\n",
       "      <td>Rewa</td>\n",
       "      <td>Madhya_Pradesh</td>\n",
       "      <td>3</td>\n",
       "      <td>13</td>\n",
       "      <td>0</td>\n",
       "    </tr>\n",
       "    <tr>\n",
       "      <th>1</th>\n",
       "      <td>2</td>\n",
       "      <td>7574516</td>\n",
       "      <td>40</td>\n",
       "      <td>10</td>\n",
       "      <td>single</td>\n",
       "      <td>rented</td>\n",
       "      <td>no</td>\n",
       "      <td>Software_Developer</td>\n",
       "      <td>Parbhani</td>\n",
       "      <td>Maharashtra</td>\n",
       "      <td>9</td>\n",
       "      <td>13</td>\n",
       "      <td>0</td>\n",
       "    </tr>\n",
       "    <tr>\n",
       "      <th>2</th>\n",
       "      <td>3</td>\n",
       "      <td>3991815</td>\n",
       "      <td>66</td>\n",
       "      <td>4</td>\n",
       "      <td>married</td>\n",
       "      <td>rented</td>\n",
       "      <td>no</td>\n",
       "      <td>Technical_writer</td>\n",
       "      <td>Alappuzha</td>\n",
       "      <td>Kerala</td>\n",
       "      <td>4</td>\n",
       "      <td>10</td>\n",
       "      <td>0</td>\n",
       "    </tr>\n",
       "    <tr>\n",
       "      <th>3</th>\n",
       "      <td>4</td>\n",
       "      <td>6256451</td>\n",
       "      <td>41</td>\n",
       "      <td>2</td>\n",
       "      <td>single</td>\n",
       "      <td>rented</td>\n",
       "      <td>yes</td>\n",
       "      <td>Software_Developer</td>\n",
       "      <td>Bhubaneswar</td>\n",
       "      <td>Odisha</td>\n",
       "      <td>2</td>\n",
       "      <td>12</td>\n",
       "      <td>1</td>\n",
       "    </tr>\n",
       "    <tr>\n",
       "      <th>4</th>\n",
       "      <td>5</td>\n",
       "      <td>5768871</td>\n",
       "      <td>47</td>\n",
       "      <td>11</td>\n",
       "      <td>single</td>\n",
       "      <td>rented</td>\n",
       "      <td>no</td>\n",
       "      <td>Civil_servant</td>\n",
       "      <td>Tiruchirappalli[10]</td>\n",
       "      <td>Tamil_Nadu</td>\n",
       "      <td>3</td>\n",
       "      <td>14</td>\n",
       "      <td>1</td>\n",
       "    </tr>\n",
       "  </tbody>\n",
       "</table>\n",
       "</div>"
      ],
      "text/plain": [
       "   Id   income  age  experience  married house_ownership car_ownership  \\\n",
       "0   1  1303835   23           3   single          rented            no   \n",
       "1   2  7574516   40          10   single          rented            no   \n",
       "2   3  3991815   66           4  married          rented            no   \n",
       "3   4  6256451   41           2   single          rented           yes   \n",
       "4   5  5768871   47          11   single          rented            no   \n",
       "\n",
       "            profession                 city           state  \\\n",
       "0  Mechanical_engineer                 Rewa  Madhya_Pradesh   \n",
       "1   Software_Developer             Parbhani     Maharashtra   \n",
       "2     Technical_writer            Alappuzha          Kerala   \n",
       "3   Software_Developer          Bhubaneswar          Odisha   \n",
       "4        Civil_servant  Tiruchirappalli[10]      Tamil_Nadu   \n",
       "\n",
       "   current_job_years  current_house_years  risk_flag  \n",
       "0                  3                   13          0  \n",
       "1                  9                   13          0  \n",
       "2                  4                   10          0  \n",
       "3                  2                   12          1  \n",
       "4                  3                   14          1  "
      ]
     },
     "execution_count": 3,
     "metadata": {},
     "output_type": "execute_result"
    }
   ],
   "source": [
    "var = pd.read_csv('Training Data.csv')\n",
    "var.head()"
   ]
  },
  {
   "cell_type": "code",
   "execution_count": 4,
   "metadata": {},
   "outputs": [
    {
     "data": {
      "text/html": [
       "<div>\n",
       "<style scoped>\n",
       "    .dataframe tbody tr th:only-of-type {\n",
       "        vertical-align: middle;\n",
       "    }\n",
       "\n",
       "    .dataframe tbody tr th {\n",
       "        vertical-align: top;\n",
       "    }\n",
       "\n",
       "    .dataframe thead th {\n",
       "        text-align: right;\n",
       "    }\n",
       "</style>\n",
       "<table border=\"1\" class=\"dataframe\">\n",
       "  <thead>\n",
       "    <tr style=\"text-align: right;\">\n",
       "      <th></th>\n",
       "      <th>id</th>\n",
       "      <th>income</th>\n",
       "      <th>age</th>\n",
       "      <th>experience</th>\n",
       "      <th>married</th>\n",
       "      <th>house_ownership</th>\n",
       "      <th>car_ownership</th>\n",
       "      <th>profession</th>\n",
       "      <th>city</th>\n",
       "      <th>state</th>\n",
       "      <th>current_job_years</th>\n",
       "      <th>current_house_years</th>\n",
       "    </tr>\n",
       "  </thead>\n",
       "  <tbody>\n",
       "    <tr>\n",
       "      <th>0</th>\n",
       "      <td>1</td>\n",
       "      <td>7393090</td>\n",
       "      <td>59</td>\n",
       "      <td>19</td>\n",
       "      <td>single</td>\n",
       "      <td>rented</td>\n",
       "      <td>no</td>\n",
       "      <td>Geologist</td>\n",
       "      <td>Malda</td>\n",
       "      <td>West Bengal</td>\n",
       "      <td>4</td>\n",
       "      <td>13</td>\n",
       "    </tr>\n",
       "    <tr>\n",
       "      <th>1</th>\n",
       "      <td>2</td>\n",
       "      <td>1215004</td>\n",
       "      <td>25</td>\n",
       "      <td>5</td>\n",
       "      <td>single</td>\n",
       "      <td>rented</td>\n",
       "      <td>no</td>\n",
       "      <td>Firefighter</td>\n",
       "      <td>Jalna</td>\n",
       "      <td>Maharashtra</td>\n",
       "      <td>5</td>\n",
       "      <td>10</td>\n",
       "    </tr>\n",
       "    <tr>\n",
       "      <th>2</th>\n",
       "      <td>3</td>\n",
       "      <td>8901342</td>\n",
       "      <td>50</td>\n",
       "      <td>12</td>\n",
       "      <td>single</td>\n",
       "      <td>rented</td>\n",
       "      <td>no</td>\n",
       "      <td>Lawyer</td>\n",
       "      <td>Thane</td>\n",
       "      <td>Maharashtra</td>\n",
       "      <td>9</td>\n",
       "      <td>14</td>\n",
       "    </tr>\n",
       "    <tr>\n",
       "      <th>3</th>\n",
       "      <td>4</td>\n",
       "      <td>1944421</td>\n",
       "      <td>49</td>\n",
       "      <td>9</td>\n",
       "      <td>married</td>\n",
       "      <td>rented</td>\n",
       "      <td>yes</td>\n",
       "      <td>Analyst</td>\n",
       "      <td>Latur</td>\n",
       "      <td>Maharashtra</td>\n",
       "      <td>3</td>\n",
       "      <td>12</td>\n",
       "    </tr>\n",
       "    <tr>\n",
       "      <th>4</th>\n",
       "      <td>5</td>\n",
       "      <td>13429</td>\n",
       "      <td>25</td>\n",
       "      <td>18</td>\n",
       "      <td>single</td>\n",
       "      <td>rented</td>\n",
       "      <td>yes</td>\n",
       "      <td>Comedian</td>\n",
       "      <td>Berhampore</td>\n",
       "      <td>West Bengal</td>\n",
       "      <td>13</td>\n",
       "      <td>11</td>\n",
       "    </tr>\n",
       "  </tbody>\n",
       "</table>\n",
       "</div>"
      ],
      "text/plain": [
       "   id   income  age  experience  married house_ownership car_ownership  \\\n",
       "0   1  7393090   59          19   single          rented            no   \n",
       "1   2  1215004   25           5   single          rented            no   \n",
       "2   3  8901342   50          12   single          rented            no   \n",
       "3   4  1944421   49           9  married          rented           yes   \n",
       "4   5    13429   25          18   single          rented           yes   \n",
       "\n",
       "    profession        city        state  current_job_years  \\\n",
       "0    Geologist       Malda  West Bengal                  4   \n",
       "1  Firefighter       Jalna  Maharashtra                  5   \n",
       "2       Lawyer       Thane  Maharashtra                  9   \n",
       "3      Analyst       Latur  Maharashtra                  3   \n",
       "4     Comedian  Berhampore  West Bengal                 13   \n",
       "\n",
       "   current_house_years  \n",
       "0                   13  \n",
       "1                   10  \n",
       "2                   14  \n",
       "3                   12  \n",
       "4                   11  "
      ]
     },
     "execution_count": 4,
     "metadata": {},
     "output_type": "execute_result"
    }
   ],
   "source": [
    "tar = pd.read_csv(\"Test Data.csv\")\n",
    "tar.head()"
   ]
  },
  {
   "cell_type": "code",
   "execution_count": 5,
   "metadata": {},
   "outputs": [
    {
     "name": "stdout",
     "output_type": "stream",
     "text": [
      "<class 'pandas.core.frame.DataFrame'>\n",
      "RangeIndex: 252000 entries, 0 to 251999\n",
      "Data columns (total 13 columns):\n",
      " #   Column               Non-Null Count   Dtype \n",
      "---  ------               --------------   ----- \n",
      " 0   Id                   252000 non-null  int64 \n",
      " 1   income               252000 non-null  int64 \n",
      " 2   age                  252000 non-null  int64 \n",
      " 3   experience           252000 non-null  int64 \n",
      " 4   married              252000 non-null  object\n",
      " 5   house_ownership      252000 non-null  object\n",
      " 6   car_ownership        252000 non-null  object\n",
      " 7   profession           252000 non-null  object\n",
      " 8   city                 252000 non-null  object\n",
      " 9   state                252000 non-null  object\n",
      " 10  current_job_years    252000 non-null  int64 \n",
      " 11  current_house_years  252000 non-null  int64 \n",
      " 12  risk_flag            252000 non-null  int64 \n",
      "dtypes: int64(7), object(6)\n",
      "memory usage: 25.0+ MB\n"
     ]
    }
   ],
   "source": [
    "var.info()"
   ]
  },
  {
   "cell_type": "code",
   "execution_count": 6,
   "metadata": {},
   "outputs": [
    {
     "data": {
      "text/html": [
       "<div>\n",
       "<style scoped>\n",
       "    .dataframe tbody tr th:only-of-type {\n",
       "        vertical-align: middle;\n",
       "    }\n",
       "\n",
       "    .dataframe tbody tr th {\n",
       "        vertical-align: top;\n",
       "    }\n",
       "\n",
       "    .dataframe thead th {\n",
       "        text-align: right;\n",
       "    }\n",
       "</style>\n",
       "<table border=\"1\" class=\"dataframe\">\n",
       "  <thead>\n",
       "    <tr style=\"text-align: right;\">\n",
       "      <th></th>\n",
       "      <th>Id</th>\n",
       "      <th>income</th>\n",
       "      <th>age</th>\n",
       "      <th>experience</th>\n",
       "      <th>current_job_years</th>\n",
       "      <th>current_house_years</th>\n",
       "      <th>risk_flag</th>\n",
       "    </tr>\n",
       "  </thead>\n",
       "  <tbody>\n",
       "    <tr>\n",
       "      <th>count</th>\n",
       "      <td>252000.000000</td>\n",
       "      <td>2.520000e+05</td>\n",
       "      <td>252000.000000</td>\n",
       "      <td>252000.000000</td>\n",
       "      <td>252000.000000</td>\n",
       "      <td>252000.000000</td>\n",
       "      <td>252000.000000</td>\n",
       "    </tr>\n",
       "    <tr>\n",
       "      <th>mean</th>\n",
       "      <td>126000.500000</td>\n",
       "      <td>4.997117e+06</td>\n",
       "      <td>49.954071</td>\n",
       "      <td>10.084437</td>\n",
       "      <td>6.333877</td>\n",
       "      <td>11.997794</td>\n",
       "      <td>0.123000</td>\n",
       "    </tr>\n",
       "    <tr>\n",
       "      <th>std</th>\n",
       "      <td>72746.278255</td>\n",
       "      <td>2.878311e+06</td>\n",
       "      <td>17.063863</td>\n",
       "      <td>6.002590</td>\n",
       "      <td>3.647053</td>\n",
       "      <td>1.399037</td>\n",
       "      <td>0.328438</td>\n",
       "    </tr>\n",
       "    <tr>\n",
       "      <th>min</th>\n",
       "      <td>1.000000</td>\n",
       "      <td>1.031000e+04</td>\n",
       "      <td>21.000000</td>\n",
       "      <td>0.000000</td>\n",
       "      <td>0.000000</td>\n",
       "      <td>10.000000</td>\n",
       "      <td>0.000000</td>\n",
       "    </tr>\n",
       "    <tr>\n",
       "      <th>25%</th>\n",
       "      <td>63000.750000</td>\n",
       "      <td>2.503015e+06</td>\n",
       "      <td>35.000000</td>\n",
       "      <td>5.000000</td>\n",
       "      <td>3.000000</td>\n",
       "      <td>11.000000</td>\n",
       "      <td>0.000000</td>\n",
       "    </tr>\n",
       "    <tr>\n",
       "      <th>50%</th>\n",
       "      <td>126000.500000</td>\n",
       "      <td>5.000694e+06</td>\n",
       "      <td>50.000000</td>\n",
       "      <td>10.000000</td>\n",
       "      <td>6.000000</td>\n",
       "      <td>12.000000</td>\n",
       "      <td>0.000000</td>\n",
       "    </tr>\n",
       "    <tr>\n",
       "      <th>75%</th>\n",
       "      <td>189000.250000</td>\n",
       "      <td>7.477502e+06</td>\n",
       "      <td>65.000000</td>\n",
       "      <td>15.000000</td>\n",
       "      <td>9.000000</td>\n",
       "      <td>13.000000</td>\n",
       "      <td>0.000000</td>\n",
       "    </tr>\n",
       "    <tr>\n",
       "      <th>max</th>\n",
       "      <td>252000.000000</td>\n",
       "      <td>9.999938e+06</td>\n",
       "      <td>79.000000</td>\n",
       "      <td>20.000000</td>\n",
       "      <td>14.000000</td>\n",
       "      <td>14.000000</td>\n",
       "      <td>1.000000</td>\n",
       "    </tr>\n",
       "  </tbody>\n",
       "</table>\n",
       "</div>"
      ],
      "text/plain": [
       "                  Id        income            age     experience  \\\n",
       "count  252000.000000  2.520000e+05  252000.000000  252000.000000   \n",
       "mean   126000.500000  4.997117e+06      49.954071      10.084437   \n",
       "std     72746.278255  2.878311e+06      17.063863       6.002590   \n",
       "min         1.000000  1.031000e+04      21.000000       0.000000   \n",
       "25%     63000.750000  2.503015e+06      35.000000       5.000000   \n",
       "50%    126000.500000  5.000694e+06      50.000000      10.000000   \n",
       "75%    189000.250000  7.477502e+06      65.000000      15.000000   \n",
       "max    252000.000000  9.999938e+06      79.000000      20.000000   \n",
       "\n",
       "       current_job_years  current_house_years      risk_flag  \n",
       "count      252000.000000        252000.000000  252000.000000  \n",
       "mean            6.333877            11.997794       0.123000  \n",
       "std             3.647053             1.399037       0.328438  \n",
       "min             0.000000            10.000000       0.000000  \n",
       "25%             3.000000            11.000000       0.000000  \n",
       "50%             6.000000            12.000000       0.000000  \n",
       "75%             9.000000            13.000000       0.000000  \n",
       "max            14.000000            14.000000       1.000000  "
      ]
     },
     "execution_count": 6,
     "metadata": {},
     "output_type": "execute_result"
    }
   ],
   "source": [
    "var.describe()"
   ]
  },
  {
   "cell_type": "code",
   "execution_count": 7,
   "metadata": {},
   "outputs": [
    {
     "data": {
      "text/html": [
       "<div>\n",
       "<style scoped>\n",
       "    .dataframe tbody tr th:only-of-type {\n",
       "        vertical-align: middle;\n",
       "    }\n",
       "\n",
       "    .dataframe tbody tr th {\n",
       "        vertical-align: top;\n",
       "    }\n",
       "\n",
       "    .dataframe thead th {\n",
       "        text-align: right;\n",
       "    }\n",
       "</style>\n",
       "<table border=\"1\" class=\"dataframe\">\n",
       "  <thead>\n",
       "    <tr style=\"text-align: right;\">\n",
       "      <th></th>\n",
       "      <th>married</th>\n",
       "      <th>house_ownership</th>\n",
       "      <th>car_ownership</th>\n",
       "      <th>profession</th>\n",
       "      <th>city</th>\n",
       "      <th>state</th>\n",
       "    </tr>\n",
       "  </thead>\n",
       "  <tbody>\n",
       "    <tr>\n",
       "      <th>count</th>\n",
       "      <td>252000</td>\n",
       "      <td>252000</td>\n",
       "      <td>252000</td>\n",
       "      <td>252000</td>\n",
       "      <td>252000</td>\n",
       "      <td>252000</td>\n",
       "    </tr>\n",
       "    <tr>\n",
       "      <th>unique</th>\n",
       "      <td>2</td>\n",
       "      <td>3</td>\n",
       "      <td>2</td>\n",
       "      <td>51</td>\n",
       "      <td>317</td>\n",
       "      <td>29</td>\n",
       "    </tr>\n",
       "    <tr>\n",
       "      <th>top</th>\n",
       "      <td>single</td>\n",
       "      <td>rented</td>\n",
       "      <td>no</td>\n",
       "      <td>Physician</td>\n",
       "      <td>Vijayanagaram</td>\n",
       "      <td>Uttar_Pradesh</td>\n",
       "    </tr>\n",
       "    <tr>\n",
       "      <th>freq</th>\n",
       "      <td>226272</td>\n",
       "      <td>231898</td>\n",
       "      <td>176000</td>\n",
       "      <td>5957</td>\n",
       "      <td>1259</td>\n",
       "      <td>28400</td>\n",
       "    </tr>\n",
       "  </tbody>\n",
       "</table>\n",
       "</div>"
      ],
      "text/plain": [
       "       married house_ownership car_ownership profession           city  \\\n",
       "count   252000          252000        252000     252000         252000   \n",
       "unique       2               3             2         51            317   \n",
       "top     single          rented            no  Physician  Vijayanagaram   \n",
       "freq    226272          231898        176000       5957           1259   \n",
       "\n",
       "                state  \n",
       "count          252000  \n",
       "unique             29  \n",
       "top     Uttar_Pradesh  \n",
       "freq            28400  "
      ]
     },
     "execution_count": 7,
     "metadata": {},
     "output_type": "execute_result"
    }
   ],
   "source": [
    "var.describe(include = 'object')"
   ]
  },
  {
   "cell_type": "code",
   "execution_count": 8,
   "metadata": {},
   "outputs": [
    {
     "data": {
      "text/plain": [
       "Id                     0\n",
       "income                 0\n",
       "age                    0\n",
       "experience             0\n",
       "married                0\n",
       "house_ownership        0\n",
       "car_ownership          0\n",
       "profession             0\n",
       "city                   0\n",
       "state                  0\n",
       "current_job_years      0\n",
       "current_house_years    0\n",
       "risk_flag              0\n",
       "dtype: int64"
      ]
     },
     "execution_count": 8,
     "metadata": {},
     "output_type": "execute_result"
    }
   ],
   "source": [
    "var.isnull().sum()"
   ]
  },
  {
   "cell_type": "markdown",
   "metadata": {},
   "source": [
    "### **Exploratory Data Analysis**\n",
    "Extracting Insights using Aesthetic Visualizations"
   ]
  },
  {
   "cell_type": "code",
   "execution_count": 9,
   "metadata": {},
   "outputs": [
    {
     "data": {
      "image/png": "[encoded data removed]",
      "text/plain": [
       "<Figure size 1296x864 with 2 Axes>"
      ]
     },
     "metadata": {
      "needs_background": "light"
     },
     "output_type": "display_data"
    }
   ],
   "source": [
    "plt.figure(figsize=(18,12))\n",
    "corr = var.corr()\n",
    "sns.heatmap(corr,annot=True,cmap = plt.cm.cividis)\n",
    "plt.show()"
   ]
  },
  {
   "cell_type": "code",
   "execution_count": 10,
   "metadata": {},
   "outputs": [
    {
     "data": {
      "text/plain": [
       "<Figure size 1296x864 with 0 Axes>"
      ]
     },
     "metadata": {},
     "output_type": "display_data"
    }
   ],
   "source": [
    "plt.figure(figsize=(18,12))\n",
    "\n",
    "plt.show()"
   ]
  },
  {
   "cell_type": "markdown",
   "metadata": {},
   "source": [
    "### **Data Transformation** (Categorical - Numerical)"
   ]
  },
  {
   "cell_type": "code",
   "execution_count": 11,
   "metadata": {},
   "outputs": [
    {
     "name": "stdout",
     "output_type": "stream",
     "text": [
      "<class 'pandas.core.frame.DataFrame'>\n",
      "RangeIndex: 252000 entries, 0 to 251999\n",
      "Data columns (total 13 columns):\n",
      " #   Column               Non-Null Count   Dtype \n",
      "---  ------               --------------   ----- \n",
      " 0   Id                   252000 non-null  int64 \n",
      " 1   income               252000 non-null  int64 \n",
      " 2   age                  252000 non-null  int64 \n",
      " 3   experience           252000 non-null  int64 \n",
      " 4   married              252000 non-null  object\n",
      " 5   house_ownership      252000 non-null  object\n",
      " 6   car_ownership        252000 non-null  object\n",
      " 7   profession           252000 non-null  object\n",
      " 8   city                 252000 non-null  object\n",
      " 9   state                252000 non-null  object\n",
      " 10  current_job_years    252000 non-null  int64 \n",
      " 11  current_house_years  252000 non-null  int64 \n",
      " 12  risk_flag            252000 non-null  int64 \n",
      "dtypes: int64(7), object(6)\n",
      "memory usage: 25.0+ MB\n"
     ]
    }
   ],
   "source": [
    "var.info()"
   ]
  },
  {
   "cell_type": "code",
   "execution_count": 12,
   "metadata": {},
   "outputs": [
    {
     "name": "stdout",
     "output_type": "stream",
     "text": [
      "<class 'pandas.core.frame.DataFrame'>\n",
      "RangeIndex: 28000 entries, 0 to 27999\n",
      "Data columns (total 12 columns):\n",
      " #   Column               Non-Null Count  Dtype \n",
      "---  ------               --------------  ----- \n",
      " 0   id                   28000 non-null  int64 \n",
      " 1   income               28000 non-null  int64 \n",
      " 2   age                  28000 non-null  int64 \n",
      " 3   experience           28000 non-null  int64 \n",
      " 4   married              28000 non-null  object\n",
      " 5   house_ownership      28000 non-null  object\n",
      " 6   car_ownership        28000 non-null  object\n",
      " 7   profession           28000 non-null  object\n",
      " 8   city                 28000 non-null  object\n",
      " 9   state                28000 non-null  object\n",
      " 10  current_job_years    28000 non-null  int64 \n",
      " 11  current_house_years  28000 non-null  int64 \n",
      "dtypes: int64(6), object(6)\n",
      "memory usage: 2.6+ MB\n"
     ]
    }
   ],
   "source": [
    "tar.info()"
   ]
  },
  {
   "cell_type": "code",
   "execution_count": 13,
   "metadata": {},
   "outputs": [],
   "source": [
    "mapping = {'single':'0', 'married':'1'}\n",
    "mapping2 = {'owned':'2','rented':'1','norent_noown':'0'}"
   ]
  },
  {
   "cell_type": "code",
   "execution_count": 14,
   "metadata": {},
   "outputs": [],
   "source": [
    "var['married'] = var['married'].map(mapping)\n",
    "tar['married'] = tar['married'].map(mapping)"
   ]
  },
  {
   "cell_type": "code",
   "execution_count": 15,
   "metadata": {},
   "outputs": [],
   "source": [
    "var['house_ownership'] = var['house_ownership'].map(mapping2)\n",
    "tar['house_ownership'] = tar['house_ownership'].map(mapping2)"
   ]
  },
  {
   "cell_type": "code",
   "execution_count": 16,
   "metadata": {},
   "outputs": [],
   "source": [
    "var['car_ownership'] = var['car_ownership'].replace({'no':'0', 'yes':'1'})\n",
    "tar['car_ownership'] = tar['car_ownership'].replace({'no':'0', 'yes':'1'})"
   ]
  },
  {
   "cell_type": "markdown",
   "metadata": {},
   "source": [
    "##### **Performing One Hot Encoding on Column Professsion.**"
   ]
  },
  {
   "cell_type": "code",
   "execution_count": 17,
   "metadata": {},
   "outputs": [
    {
     "data": {
      "text/plain": [
       "Physician                     5957\n",
       "Statistician                  5806\n",
       "Web_designer                  5397\n",
       "Psychologist                  5390\n",
       "Computer_hardware_engineer    5372\n",
       "Drafter                       5359\n",
       "Magistrate                    5357\n",
       "Fashion_Designer              5304\n",
       "Air_traffic_controller        5281\n",
       "Comedian                      5259\n",
       "Industrial_Engineer           5250\n",
       "Mechanical_engineer           5217\n",
       "Chemical_engineer             5205\n",
       "Technical_writer              5195\n",
       "Hotel_Manager                 5178\n",
       "Financial_Analyst             5167\n",
       "Graphic_Designer              5166\n",
       "Flight_attendant              5128\n",
       "Biomedical_Engineer           5127\n",
       "Secretary                     5061\n",
       "Software_Developer            5053\n",
       "Petroleum_Engineer            5041\n",
       "Police_officer                5035\n",
       "Computer_operator             4990\n",
       "Politician                    4944\n",
       "Microbiologist                4881\n",
       "Technician                    4864\n",
       "Artist                        4861\n",
       "Lawyer                        4818\n",
       "Consultant                    4808\n",
       "Dentist                       4782\n",
       "Scientist                     4781\n",
       "Surgeon                       4772\n",
       "Aviator                       4758\n",
       "Technology_specialist         4737\n",
       "Design_Engineer               4729\n",
       "Surveyor                      4714\n",
       "Geologist                     4672\n",
       "Analyst                       4668\n",
       "Army_officer                  4661\n",
       "Architect                     4657\n",
       "Chef                          4635\n",
       "Librarian                     4628\n",
       "Civil_engineer                4616\n",
       "Designer                      4598\n",
       "Economist                     4573\n",
       "Firefighter                   4507\n",
       "Chartered_Accountant          4493\n",
       "Civil_servant                 4413\n",
       "Official                      4087\n",
       "Engineer                      4048\n",
       "Name: profession, dtype: int64"
      ]
     },
     "execution_count": 17,
     "metadata": {},
     "output_type": "execute_result"
    }
   ],
   "source": [
    "var['profession'].value_counts()"
   ]
  },
  {
   "cell_type": "code",
   "execution_count": 18,
   "metadata": {},
   "outputs": [
    {
     "data": {
      "text/plain": [
       "51"
      ]
     },
     "execution_count": 18,
     "metadata": {},
     "output_type": "execute_result"
    }
   ],
   "source": [
    "var['profession'].nunique()"
   ]
  },
  {
   "cell_type": "code",
   "execution_count": 19,
   "metadata": {},
   "outputs": [
    {
     "name": "stdout",
     "output_type": "stream",
     "text": [
      "Physician\n",
      "Statistician\n",
      "Web_designer\n",
      "Psychologist\n",
      "Computer_hardware_engineer\n",
      "Drafter\n",
      "Magistrate\n",
      "Fashion_Designer\n",
      "Air_traffic_controller\n",
      "Comedian\n",
      "Industrial_Engineer\n",
      "Mechanical_engineer\n",
      "Chemical_engineer\n",
      "Technical_writer\n",
      "Hotel_Manager\n",
      "Financial_Analyst\n",
      "Graphic_Designer\n",
      "Flight_attendant\n",
      "Biomedical_Engineer\n",
      "Secretary\n",
      "Software_Developer\n",
      "Petroleum_Engineer\n",
      "Police_officer\n",
      "Computer_operator\n",
      "Politician\n",
      "Microbiologist\n",
      "Technician\n",
      "Artist\n",
      "Lawyer\n",
      "Consultant\n",
      "Dentist\n",
      "Scientist\n",
      "Surgeon\n",
      "Aviator\n",
      "Technology_specialist\n",
      "Design_Engineer\n",
      "Surveyor\n",
      "Geologist\n",
      "Analyst\n",
      "Army_officer\n",
      "Architect\n",
      "Chef\n",
      "Librarian\n",
      "Civil_engineer\n",
      "Designer\n",
      "Economist\n",
      "Firefighter\n",
      "Chartered_Accountant\n",
      "Civil_servant\n",
      "Official\n",
      "Engineer\n"
     ]
    }
   ],
   "source": [
    "for i in var['profession'].value_counts().index:\n",
    "    print(i)"
   ]
  },
  {
   "cell_type": "code",
   "execution_count": 20,
   "metadata": {},
   "outputs": [],
   "source": [
    "for i in var['profession'].value_counts().index:\n",
    "    var[i] = np.where(var['profession'] == i, 1,0)"
   ]
  },
  {
   "cell_type": "code",
   "execution_count": 21,
   "metadata": {},
   "outputs": [],
   "source": [
    "# Performing on Test Data\n",
    "for i in tar['profession'].value_counts().index:\n",
    "    tar[i] = np.where(tar['profession'] == i, 1,0)"
   ]
  },
  {
   "cell_type": "code",
   "execution_count": 22,
   "metadata": {},
   "outputs": [
    {
     "data": {
      "text/plain": [
       "317"
      ]
     },
     "execution_count": 22,
     "metadata": {},
     "output_type": "execute_result"
    }
   ],
   "source": [
    "# Trasforming Variable City into Numerical Values taking only the most risky cities which are more prone to credit card fradualent.\n",
    "# The reason for taking only top 30 cities are, since performing one hot encoding to\n",
    "# all the cities can lead to curse of dimenrsionality and it will increase the time complexity.\n",
    "\n",
    "var['city'].nunique()"
   ]
  },
  {
   "cell_type": "code",
   "execution_count": 23,
   "metadata": {},
   "outputs": [],
   "source": [
    "top_100 = [x for x in var['city'].value_counts().sort_values(ascending = False).head(100).index]"
   ]
  },
  {
   "cell_type": "code",
   "execution_count": 24,
   "metadata": {},
   "outputs": [
    {
     "data": {
      "text/html": [
       "<div>\n",
       "<style scoped>\n",
       "    .dataframe tbody tr th:only-of-type {\n",
       "        vertical-align: middle;\n",
       "    }\n",
       "\n",
       "    .dataframe tbody tr th {\n",
       "        vertical-align: top;\n",
       "    }\n",
       "\n",
       "    .dataframe thead th {\n",
       "        text-align: right;\n",
       "    }\n",
       "</style>\n",
       "<table border=\"1\" class=\"dataframe\">\n",
       "  <thead>\n",
       "    <tr style=\"text-align: right;\">\n",
       "      <th></th>\n",
       "      <th>city</th>\n",
       "      <th>Vijayanagaram</th>\n",
       "      <th>Bhopal</th>\n",
       "      <th>Bulandshahr</th>\n",
       "      <th>Saharsa[29]</th>\n",
       "      <th>Vijayawada</th>\n",
       "      <th>Srinagar</th>\n",
       "      <th>Indore</th>\n",
       "      <th>New_Delhi</th>\n",
       "      <th>Hajipur[31]</th>\n",
       "      <th>...</th>\n",
       "      <th>Tinsukia</th>\n",
       "      <th>Panihati</th>\n",
       "      <th>Guna</th>\n",
       "      <th>Raebareli</th>\n",
       "      <th>Ludhiana</th>\n",
       "      <th>Dehradun</th>\n",
       "      <th>Tezpur</th>\n",
       "      <th>Cuttack</th>\n",
       "      <th>Mehsana</th>\n",
       "      <th>South_Dumdum</th>\n",
       "    </tr>\n",
       "  </thead>\n",
       "  <tbody>\n",
       "    <tr>\n",
       "      <th>0</th>\n",
       "      <td>Rewa</td>\n",
       "      <td>0</td>\n",
       "      <td>0</td>\n",
       "      <td>0</td>\n",
       "      <td>0</td>\n",
       "      <td>0</td>\n",
       "      <td>0</td>\n",
       "      <td>0</td>\n",
       "      <td>0</td>\n",
       "      <td>0</td>\n",
       "      <td>...</td>\n",
       "      <td>0</td>\n",
       "      <td>0</td>\n",
       "      <td>0</td>\n",
       "      <td>0</td>\n",
       "      <td>0</td>\n",
       "      <td>0</td>\n",
       "      <td>0</td>\n",
       "      <td>0</td>\n",
       "      <td>0</td>\n",
       "      <td>0</td>\n",
       "    </tr>\n",
       "    <tr>\n",
       "      <th>1</th>\n",
       "      <td>Parbhani</td>\n",
       "      <td>0</td>\n",
       "      <td>0</td>\n",
       "      <td>0</td>\n",
       "      <td>0</td>\n",
       "      <td>0</td>\n",
       "      <td>0</td>\n",
       "      <td>0</td>\n",
       "      <td>0</td>\n",
       "      <td>0</td>\n",
       "      <td>...</td>\n",
       "      <td>0</td>\n",
       "      <td>0</td>\n",
       "      <td>0</td>\n",
       "      <td>0</td>\n",
       "      <td>0</td>\n",
       "      <td>0</td>\n",
       "      <td>0</td>\n",
       "      <td>0</td>\n",
       "      <td>0</td>\n",
       "      <td>0</td>\n",
       "    </tr>\n",
       "    <tr>\n",
       "      <th>2</th>\n",
       "      <td>Alappuzha</td>\n",
       "      <td>0</td>\n",
       "      <td>0</td>\n",
       "      <td>0</td>\n",
       "      <td>0</td>\n",
       "      <td>0</td>\n",
       "      <td>0</td>\n",
       "      <td>0</td>\n",
       "      <td>0</td>\n",
       "      <td>0</td>\n",
       "      <td>...</td>\n",
       "      <td>0</td>\n",
       "      <td>0</td>\n",
       "      <td>0</td>\n",
       "      <td>0</td>\n",
       "      <td>0</td>\n",
       "      <td>0</td>\n",
       "      <td>0</td>\n",
       "      <td>0</td>\n",
       "      <td>0</td>\n",
       "      <td>0</td>\n",
       "    </tr>\n",
       "    <tr>\n",
       "      <th>3</th>\n",
       "      <td>Bhubaneswar</td>\n",
       "      <td>0</td>\n",
       "      <td>0</td>\n",
       "      <td>0</td>\n",
       "      <td>0</td>\n",
       "      <td>0</td>\n",
       "      <td>0</td>\n",
       "      <td>0</td>\n",
       "      <td>0</td>\n",
       "      <td>0</td>\n",
       "      <td>...</td>\n",
       "      <td>0</td>\n",
       "      <td>0</td>\n",
       "      <td>0</td>\n",
       "      <td>0</td>\n",
       "      <td>0</td>\n",
       "      <td>0</td>\n",
       "      <td>0</td>\n",
       "      <td>0</td>\n",
       "      <td>0</td>\n",
       "      <td>0</td>\n",
       "    </tr>\n",
       "    <tr>\n",
       "      <th>4</th>\n",
       "      <td>Tiruchirappalli[10]</td>\n",
       "      <td>0</td>\n",
       "      <td>0</td>\n",
       "      <td>0</td>\n",
       "      <td>0</td>\n",
       "      <td>0</td>\n",
       "      <td>0</td>\n",
       "      <td>0</td>\n",
       "      <td>0</td>\n",
       "      <td>0</td>\n",
       "      <td>...</td>\n",
       "      <td>0</td>\n",
       "      <td>0</td>\n",
       "      <td>0</td>\n",
       "      <td>0</td>\n",
       "      <td>0</td>\n",
       "      <td>0</td>\n",
       "      <td>0</td>\n",
       "      <td>0</td>\n",
       "      <td>0</td>\n",
       "      <td>0</td>\n",
       "    </tr>\n",
       "  </tbody>\n",
       "</table>\n",
       "<p>5 rows × 101 columns</p>\n",
       "</div>"
      ],
      "text/plain": [
       "                  city  Vijayanagaram  Bhopal  Bulandshahr  Saharsa[29]  \\\n",
       "0                 Rewa              0       0            0            0   \n",
       "1             Parbhani              0       0            0            0   \n",
       "2            Alappuzha              0       0            0            0   \n",
       "3          Bhubaneswar              0       0            0            0   \n",
       "4  Tiruchirappalli[10]              0       0            0            0   \n",
       "\n",
       "   Vijayawada  Srinagar  Indore  New_Delhi  Hajipur[31]  ...  Tinsukia  \\\n",
       "0           0         0       0          0            0  ...         0   \n",
       "1           0         0       0          0            0  ...         0   \n",
       "2           0         0       0          0            0  ...         0   \n",
       "3           0         0       0          0            0  ...         0   \n",
       "4           0         0       0          0            0  ...         0   \n",
       "\n",
       "   Panihati  Guna  Raebareli  Ludhiana  Dehradun  Tezpur  Cuttack  Mehsana  \\\n",
       "0         0     0          0         0         0       0        0        0   \n",
       "1         0     0          0         0         0       0        0        0   \n",
       "2         0     0          0         0         0       0        0        0   \n",
       "3         0     0          0         0         0       0        0        0   \n",
       "4         0     0          0         0         0       0        0        0   \n",
       "\n",
       "   South_Dumdum  \n",
       "0             0  \n",
       "1             0  \n",
       "2             0  \n",
       "3             0  \n",
       "4             0  \n",
       "\n",
       "[5 rows x 101 columns]"
      ]
     },
     "execution_count": 24,
     "metadata": {},
     "output_type": "execute_result"
    }
   ],
   "source": [
    "for label in top_100:\n",
    "    var[label] = np.where(var['city'] == label ,1,0)\n",
    "var[['city']+top_100].head()"
   ]
  },
  {
   "cell_type": "code",
   "execution_count": 25,
   "metadata": {},
   "outputs": [
    {
     "data": {
      "text/html": [
       "<div>\n",
       "<style scoped>\n",
       "    .dataframe tbody tr th:only-of-type {\n",
       "        vertical-align: middle;\n",
       "    }\n",
       "\n",
       "    .dataframe tbody tr th {\n",
       "        vertical-align: top;\n",
       "    }\n",
       "\n",
       "    .dataframe thead th {\n",
       "        text-align: right;\n",
       "    }\n",
       "</style>\n",
       "<table border=\"1\" class=\"dataframe\">\n",
       "  <thead>\n",
       "    <tr style=\"text-align: right;\">\n",
       "      <th></th>\n",
       "      <th>city</th>\n",
       "      <th>Saharsa[29]</th>\n",
       "      <th>Vijayanagaram</th>\n",
       "      <th>Bulandshahr</th>\n",
       "      <th>Danapur</th>\n",
       "      <th>Kolkata</th>\n",
       "      <th>Ongole</th>\n",
       "      <th>Satara</th>\n",
       "      <th>Bhopal</th>\n",
       "      <th>Bidhannagar</th>\n",
       "      <th>...</th>\n",
       "      <th>Buxar[37]</th>\n",
       "      <th>Raebareli</th>\n",
       "      <th>Katihar</th>\n",
       "      <th>Thane</th>\n",
       "      <th>Malda</th>\n",
       "      <th>Giridih</th>\n",
       "      <th>Hazaribagh</th>\n",
       "      <th>South Dumdum</th>\n",
       "      <th>Sonipat</th>\n",
       "      <th>Mehsana</th>\n",
       "    </tr>\n",
       "  </thead>\n",
       "  <tbody>\n",
       "    <tr>\n",
       "      <th>0</th>\n",
       "      <td>Malda</td>\n",
       "      <td>0</td>\n",
       "      <td>0</td>\n",
       "      <td>0</td>\n",
       "      <td>0</td>\n",
       "      <td>0</td>\n",
       "      <td>0</td>\n",
       "      <td>0</td>\n",
       "      <td>0</td>\n",
       "      <td>0</td>\n",
       "      <td>...</td>\n",
       "      <td>0</td>\n",
       "      <td>0</td>\n",
       "      <td>0</td>\n",
       "      <td>0</td>\n",
       "      <td>1</td>\n",
       "      <td>0</td>\n",
       "      <td>0</td>\n",
       "      <td>0</td>\n",
       "      <td>0</td>\n",
       "      <td>0</td>\n",
       "    </tr>\n",
       "    <tr>\n",
       "      <th>1</th>\n",
       "      <td>Jalna</td>\n",
       "      <td>0</td>\n",
       "      <td>0</td>\n",
       "      <td>0</td>\n",
       "      <td>0</td>\n",
       "      <td>0</td>\n",
       "      <td>0</td>\n",
       "      <td>0</td>\n",
       "      <td>0</td>\n",
       "      <td>0</td>\n",
       "      <td>...</td>\n",
       "      <td>0</td>\n",
       "      <td>0</td>\n",
       "      <td>0</td>\n",
       "      <td>0</td>\n",
       "      <td>0</td>\n",
       "      <td>0</td>\n",
       "      <td>0</td>\n",
       "      <td>0</td>\n",
       "      <td>0</td>\n",
       "      <td>0</td>\n",
       "    </tr>\n",
       "    <tr>\n",
       "      <th>2</th>\n",
       "      <td>Thane</td>\n",
       "      <td>0</td>\n",
       "      <td>0</td>\n",
       "      <td>0</td>\n",
       "      <td>0</td>\n",
       "      <td>0</td>\n",
       "      <td>0</td>\n",
       "      <td>0</td>\n",
       "      <td>0</td>\n",
       "      <td>0</td>\n",
       "      <td>...</td>\n",
       "      <td>0</td>\n",
       "      <td>0</td>\n",
       "      <td>0</td>\n",
       "      <td>1</td>\n",
       "      <td>0</td>\n",
       "      <td>0</td>\n",
       "      <td>0</td>\n",
       "      <td>0</td>\n",
       "      <td>0</td>\n",
       "      <td>0</td>\n",
       "    </tr>\n",
       "    <tr>\n",
       "      <th>3</th>\n",
       "      <td>Latur</td>\n",
       "      <td>0</td>\n",
       "      <td>0</td>\n",
       "      <td>0</td>\n",
       "      <td>0</td>\n",
       "      <td>0</td>\n",
       "      <td>0</td>\n",
       "      <td>0</td>\n",
       "      <td>0</td>\n",
       "      <td>0</td>\n",
       "      <td>...</td>\n",
       "      <td>0</td>\n",
       "      <td>0</td>\n",
       "      <td>0</td>\n",
       "      <td>0</td>\n",
       "      <td>0</td>\n",
       "      <td>0</td>\n",
       "      <td>0</td>\n",
       "      <td>0</td>\n",
       "      <td>0</td>\n",
       "      <td>0</td>\n",
       "    </tr>\n",
       "    <tr>\n",
       "      <th>4</th>\n",
       "      <td>Berhampore</td>\n",
       "      <td>0</td>\n",
       "      <td>0</td>\n",
       "      <td>0</td>\n",
       "      <td>0</td>\n",
       "      <td>0</td>\n",
       "      <td>0</td>\n",
       "      <td>0</td>\n",
       "      <td>0</td>\n",
       "      <td>0</td>\n",
       "      <td>...</td>\n",
       "      <td>0</td>\n",
       "      <td>0</td>\n",
       "      <td>0</td>\n",
       "      <td>0</td>\n",
       "      <td>0</td>\n",
       "      <td>0</td>\n",
       "      <td>0</td>\n",
       "      <td>0</td>\n",
       "      <td>0</td>\n",
       "      <td>0</td>\n",
       "    </tr>\n",
       "  </tbody>\n",
       "</table>\n",
       "<p>5 rows × 101 columns</p>\n",
       "</div>"
      ],
      "text/plain": [
       "         city  Saharsa[29]  Vijayanagaram  Bulandshahr  Danapur  Kolkata  \\\n",
       "0       Malda            0              0            0        0        0   \n",
       "1       Jalna            0              0            0        0        0   \n",
       "2       Thane            0              0            0        0        0   \n",
       "3       Latur            0              0            0        0        0   \n",
       "4  Berhampore            0              0            0        0        0   \n",
       "\n",
       "   Ongole  Satara  Bhopal  Bidhannagar  ...  Buxar[37]  Raebareli  Katihar  \\\n",
       "0       0       0       0            0  ...          0          0        0   \n",
       "1       0       0       0            0  ...          0          0        0   \n",
       "2       0       0       0            0  ...          0          0        0   \n",
       "3       0       0       0            0  ...          0          0        0   \n",
       "4       0       0       0            0  ...          0          0        0   \n",
       "\n",
       "   Thane  Malda  Giridih  Hazaribagh  South Dumdum  Sonipat  Mehsana  \n",
       "0      0      1        0           0             0        0        0  \n",
       "1      0      0        0           0             0        0        0  \n",
       "2      1      0        0           0             0        0        0  \n",
       "3      0      0        0           0             0        0        0  \n",
       "4      0      0        0           0             0        0        0  \n",
       "\n",
       "[5 rows x 101 columns]"
      ]
     },
     "execution_count": 25,
     "metadata": {},
     "output_type": "execute_result"
    }
   ],
   "source": [
    "# Performing the same on Test Data.\n",
    "top_100_test = [x for x in tar['city'].value_counts().sort_values(ascending = False).head(100).index]\n",
    "for label in top_100_test:\n",
    "    tar[label] = np.where(tar['city'] == label ,1,0)\n",
    "tar[['city']+top_100_test].head()"
   ]
  },
  {
   "cell_type": "code",
   "execution_count": 26,
   "metadata": {},
   "outputs": [
    {
     "data": {
      "text/plain": [
       "29"
      ]
     },
     "execution_count": 26,
     "metadata": {},
     "output_type": "execute_result"
    }
   ],
   "source": [
    "# In the case of State we have direct access the state codes in order to convert the column.\n",
    "var['state'].nunique()"
   ]
  },
  {
   "cell_type": "code",
   "execution_count": 27,
   "metadata": {},
   "outputs": [
    {
     "data": {
      "text/plain": [
       "0         13\n",
       "1         14\n",
       "2         12\n",
       "3         17\n",
       "4         22\n",
       "          ..\n",
       "251995    28\n",
       "251996    13\n",
       "251997    14\n",
       "251998    18\n",
       "251999    22\n",
       "Name: state, Length: 252000, dtype: int8"
      ]
     },
     "execution_count": 27,
     "metadata": {},
     "output_type": "execute_result"
    }
   ],
   "source": [
    "var['state'] = var['state'].astype('category')\n",
    "var['state'] = var['state'].cat.codes\n",
    "var['state']"
   ]
  },
  {
   "cell_type": "code",
   "execution_count": 28,
   "metadata": {},
   "outputs": [
    {
     "data": {
      "text/plain": [
       "0        28\n",
       "1        14\n",
       "2        14\n",
       "3        14\n",
       "4        28\n",
       "         ..\n",
       "27995     0\n",
       "27996    13\n",
       "27997    14\n",
       "27998     4\n",
       "27999    14\n",
       "Name: state, Length: 28000, dtype: int8"
      ]
     },
     "execution_count": 28,
     "metadata": {},
     "output_type": "execute_result"
    }
   ],
   "source": [
    "tar['state'] = tar['state'].astype('category')\n",
    "tar['state'] = tar['state'].cat.codes\n",
    "tar['state']"
   ]
  },
  {
   "cell_type": "code",
   "execution_count": 29,
   "metadata": {},
   "outputs": [
    {
     "name": "stdout",
     "output_type": "stream",
     "text": [
      "<class 'pandas.core.frame.DataFrame'>\n",
      "RangeIndex: 28000 entries, 0 to 27999\n",
      "Columns: 163 entries, id to Mehsana\n",
      "dtypes: int32(151), int64(6), int8(1), object(5)\n",
      "memory usage: 18.5+ MB\n"
     ]
    }
   ],
   "source": [
    "tar.info()"
   ]
  },
  {
   "cell_type": "code",
   "execution_count": 30,
   "metadata": {},
   "outputs": [
    {
     "data": {
      "text/html": [
       "<div>\n",
       "<style scoped>\n",
       "    .dataframe tbody tr th:only-of-type {\n",
       "        vertical-align: middle;\n",
       "    }\n",
       "\n",
       "    .dataframe tbody tr th {\n",
       "        vertical-align: top;\n",
       "    }\n",
       "\n",
       "    .dataframe thead th {\n",
       "        text-align: right;\n",
       "    }\n",
       "</style>\n",
       "<table border=\"1\" class=\"dataframe\">\n",
       "  <thead>\n",
       "    <tr style=\"text-align: right;\">\n",
       "      <th></th>\n",
       "      <th>id</th>\n",
       "      <th>income</th>\n",
       "      <th>age</th>\n",
       "      <th>experience</th>\n",
       "      <th>married</th>\n",
       "      <th>house_ownership</th>\n",
       "      <th>car_ownership</th>\n",
       "      <th>profession</th>\n",
       "      <th>city</th>\n",
       "      <th>state</th>\n",
       "      <th>...</th>\n",
       "      <th>Buxar[37]</th>\n",
       "      <th>Raebareli</th>\n",
       "      <th>Katihar</th>\n",
       "      <th>Thane</th>\n",
       "      <th>Malda</th>\n",
       "      <th>Giridih</th>\n",
       "      <th>Hazaribagh</th>\n",
       "      <th>South Dumdum</th>\n",
       "      <th>Sonipat</th>\n",
       "      <th>Mehsana</th>\n",
       "    </tr>\n",
       "  </thead>\n",
       "  <tbody>\n",
       "    <tr>\n",
       "      <th>0</th>\n",
       "      <td>1</td>\n",
       "      <td>7393090</td>\n",
       "      <td>59</td>\n",
       "      <td>19</td>\n",
       "      <td>0</td>\n",
       "      <td>1</td>\n",
       "      <td>0</td>\n",
       "      <td>Geologist</td>\n",
       "      <td>Malda</td>\n",
       "      <td>28</td>\n",
       "      <td>...</td>\n",
       "      <td>0</td>\n",
       "      <td>0</td>\n",
       "      <td>0</td>\n",
       "      <td>0</td>\n",
       "      <td>1</td>\n",
       "      <td>0</td>\n",
       "      <td>0</td>\n",
       "      <td>0</td>\n",
       "      <td>0</td>\n",
       "      <td>0</td>\n",
       "    </tr>\n",
       "    <tr>\n",
       "      <th>1</th>\n",
       "      <td>2</td>\n",
       "      <td>1215004</td>\n",
       "      <td>25</td>\n",
       "      <td>5</td>\n",
       "      <td>0</td>\n",
       "      <td>1</td>\n",
       "      <td>0</td>\n",
       "      <td>Firefighter</td>\n",
       "      <td>Jalna</td>\n",
       "      <td>14</td>\n",
       "      <td>...</td>\n",
       "      <td>0</td>\n",
       "      <td>0</td>\n",
       "      <td>0</td>\n",
       "      <td>0</td>\n",
       "      <td>0</td>\n",
       "      <td>0</td>\n",
       "      <td>0</td>\n",
       "      <td>0</td>\n",
       "      <td>0</td>\n",
       "      <td>0</td>\n",
       "    </tr>\n",
       "    <tr>\n",
       "      <th>2</th>\n",
       "      <td>3</td>\n",
       "      <td>8901342</td>\n",
       "      <td>50</td>\n",
       "      <td>12</td>\n",
       "      <td>0</td>\n",
       "      <td>1</td>\n",
       "      <td>0</td>\n",
       "      <td>Lawyer</td>\n",
       "      <td>Thane</td>\n",
       "      <td>14</td>\n",
       "      <td>...</td>\n",
       "      <td>0</td>\n",
       "      <td>0</td>\n",
       "      <td>0</td>\n",
       "      <td>1</td>\n",
       "      <td>0</td>\n",
       "      <td>0</td>\n",
       "      <td>0</td>\n",
       "      <td>0</td>\n",
       "      <td>0</td>\n",
       "      <td>0</td>\n",
       "    </tr>\n",
       "    <tr>\n",
       "      <th>3</th>\n",
       "      <td>4</td>\n",
       "      <td>1944421</td>\n",
       "      <td>49</td>\n",
       "      <td>9</td>\n",
       "      <td>1</td>\n",
       "      <td>1</td>\n",
       "      <td>1</td>\n",
       "      <td>Analyst</td>\n",
       "      <td>Latur</td>\n",
       "      <td>14</td>\n",
       "      <td>...</td>\n",
       "      <td>0</td>\n",
       "      <td>0</td>\n",
       "      <td>0</td>\n",
       "      <td>0</td>\n",
       "      <td>0</td>\n",
       "      <td>0</td>\n",
       "      <td>0</td>\n",
       "      <td>0</td>\n",
       "      <td>0</td>\n",
       "      <td>0</td>\n",
       "    </tr>\n",
       "    <tr>\n",
       "      <th>4</th>\n",
       "      <td>5</td>\n",
       "      <td>13429</td>\n",
       "      <td>25</td>\n",
       "      <td>18</td>\n",
       "      <td>0</td>\n",
       "      <td>1</td>\n",
       "      <td>1</td>\n",
       "      <td>Comedian</td>\n",
       "      <td>Berhampore</td>\n",
       "      <td>28</td>\n",
       "      <td>...</td>\n",
       "      <td>0</td>\n",
       "      <td>0</td>\n",
       "      <td>0</td>\n",
       "      <td>0</td>\n",
       "      <td>0</td>\n",
       "      <td>0</td>\n",
       "      <td>0</td>\n",
       "      <td>0</td>\n",
       "      <td>0</td>\n",
       "      <td>0</td>\n",
       "    </tr>\n",
       "  </tbody>\n",
       "</table>\n",
       "<p>5 rows × 163 columns</p>\n",
       "</div>"
      ],
      "text/plain": [
       "   id   income  age  experience married house_ownership car_ownership  \\\n",
       "0   1  7393090   59          19       0               1             0   \n",
       "1   2  1215004   25           5       0               1             0   \n",
       "2   3  8901342   50          12       0               1             0   \n",
       "3   4  1944421   49           9       1               1             1   \n",
       "4   5    13429   25          18       0               1             1   \n",
       "\n",
       "    profession        city  state  ...  Buxar[37]  Raebareli  Katihar  Thane  \\\n",
       "0    Geologist       Malda     28  ...          0          0        0      0   \n",
       "1  Firefighter       Jalna     14  ...          0          0        0      0   \n",
       "2       Lawyer       Thane     14  ...          0          0        0      1   \n",
       "3      Analyst       Latur     14  ...          0          0        0      0   \n",
       "4     Comedian  Berhampore     28  ...          0          0        0      0   \n",
       "\n",
       "   Malda  Giridih  Hazaribagh  South Dumdum  Sonipat  Mehsana  \n",
       "0      1        0           0             0        0        0  \n",
       "1      0        0           0             0        0        0  \n",
       "2      0        0           0             0        0        0  \n",
       "3      0        0           0             0        0        0  \n",
       "4      0        0           0             0        0        0  \n",
       "\n",
       "[5 rows x 163 columns]"
      ]
     },
     "execution_count": 30,
     "metadata": {},
     "output_type": "execute_result"
    }
   ],
   "source": [
    "tar.head()"
   ]
  },
  {
   "cell_type": "code",
   "execution_count": 31,
   "metadata": {},
   "outputs": [],
   "source": [
    "# Droping Unnecessary Columns\n",
    "columns = ['city', 'profession']\n",
    "training_data = var.drop(columns = columns)"
   ]
  },
  {
   "cell_type": "code",
   "execution_count": 32,
   "metadata": {},
   "outputs": [],
   "source": [
    "test_data = tar.drop(columns=columns)"
   ]
  },
  {
   "cell_type": "code",
   "execution_count": 33,
   "metadata": {},
   "outputs": [
    {
     "name": "stdout",
     "output_type": "stream",
     "text": [
      "<class 'pandas.core.frame.DataFrame'>\n",
      "RangeIndex: 252000 entries, 0 to 251999\n",
      "Columns: 162 entries, Id to South_Dumdum\n",
      "dtypes: int32(151), int64(7), int8(1), object(3)\n",
      "memory usage: 164.6+ MB\n"
     ]
    }
   ],
   "source": [
    "training_data.info()"
   ]
  },
  {
   "cell_type": "code",
   "execution_count": 34,
   "metadata": {},
   "outputs": [],
   "source": [
    "### Seperating the Target Variable\n",
    "target_var = training_data['risk_flag']\n",
    "train_data = training_data.drop(['risk_flag'], axis = 1)"
   ]
  },
  {
   "cell_type": "markdown",
   "metadata": {},
   "source": [
    "#### Resampling: \n",
    "- The Reason for resampling our data is to make sure that the data is balanced.\n",
    "- We will use the imblearn library to perform the resampling.\n",
    "- since at the start we have seen the target variable was imbalanced, where the risk flag 1 feature rows were high in number than 0.\n",
    "\n"
   ]
  },
  {
   "cell_type": "code",
   "execution_count": 35,
   "metadata": {},
   "outputs": [
    {
     "name": "stdout",
     "output_type": "stream",
     "text": [
      "(442008, 161)\n",
      "(442008,)\n"
     ]
    }
   ],
   "source": [
    "x_resample,y_resample = SMOTE().fit_resample(train_data,target_var.values.ravel())\n",
    "print(x_resample.shape)\n",
    "print(y_resample.shape)"
   ]
  },
  {
   "cell_type": "code",
   "execution_count": 36,
   "metadata": {},
   "outputs": [
    {
     "name": "stdout",
     "output_type": "stream",
     "text": [
      "Target_var Before Resampling:\n",
      "0    221004\n",
      "1     30996\n",
      "Name: risk_flag, dtype: int64\n",
      "Target_var After Resampling:\n",
      "1    221004\n",
      "0    221004\n",
      "Name: 0, dtype: int64\n"
     ]
    }
   ],
   "source": [
    "print(\"Target_var Before Resampling:\")\n",
    "print(target_var.value_counts())\n",
    "print(\"Target_var After Resampling:\")\n",
    "y_resample = pd.DataFrame(y_resample)\n",
    "print(y_resample[0].value_counts())"
   ]
  },
  {
   "cell_type": "markdown",
   "metadata": {},
   "source": [
    "#### **Splitting the data into Training and Test Data**"
   ]
  },
  {
   "cell_type": "code",
   "execution_count": 37,
   "metadata": {},
   "outputs": [],
   "source": [
    "X_train,X_test,y_train,y_test = train_test_split(x_resample,y_resample,test_size = 0.3, random_state=0)"
   ]
  },
  {
   "cell_type": "code",
   "execution_count": 38,
   "metadata": {},
   "outputs": [],
   "source": [
    "y_train = y_train.squeeze()\n",
    "y_test = y_test.squeeze()"
   ]
  },
  {
   "cell_type": "markdown",
   "metadata": {},
   "source": [
    "#### **Normalisation of the Data**"
   ]
  },
  {
   "cell_type": "code",
   "execution_count": 39,
   "metadata": {},
   "outputs": [],
   "source": [
    "se = StandardScaler()\n",
    "training_data = se.fit_transform(X_train)\n",
    "testing_data = se.fit_transform(X_test)"
   ]
  },
  {
   "cell_type": "markdown",
   "metadata": {},
   "source": [
    "## Model Building:\n",
    "- The most important step is to build the model.\n",
    "- choosing a best model for out data, depends on various factors/metrics such as \\\n",
    "accuracy, recall, precision, f1 score, etc.\n",
    "- In this case we are trying to implenmet 4 models and we are going to evaluate all the models, how they are performing and we will select the best model.\n",
    "- **DecisionTree, RandomForestClassifier, LogisticRegression, SVM.**"
   ]
  },
  {
   "cell_type": "markdown",
   "metadata": {},
   "source": [
    "### Decision Tree Classifier"
   ]
  },
  {
   "cell_type": "code",
   "execution_count": 40,
   "metadata": {},
   "outputs": [],
   "source": [
    "dt = DecisionTreeClassifier()\n",
    "dt_model = dt.fit(training_data, y_train)"
   ]
  },
  {
   "cell_type": "code",
   "execution_count": 41,
   "metadata": {},
   "outputs": [
    {
     "name": "stdout",
     "output_type": "stream",
     "text": [
      "The Training accuracy using Decision Tree Classifier is: 0.9999967679901747\n",
      "The Testing Accuracy using Decision Tree Classifier is: 0.6192921728769334\n"
     ]
    }
   ],
   "source": [
    "print(\"The Training accuracy using Decision Tree Classifier is:\", dt_model.score(training_data, y_train))\n",
    "print(\"The Testing Accuracy using Decision Tree Classifier is:\", dt_model.score(testing_data, y_test))"
   ]
  },
  {
   "cell_type": "code",
   "execution_count": 42,
   "metadata": {},
   "outputs": [],
   "source": [
    "dt_pred = dt_model.predict(testing_data)"
   ]
  },
  {
   "cell_type": "code",
   "execution_count": 43,
   "metadata": {},
   "outputs": [
    {
     "name": "stdout",
     "output_type": "stream",
     "text": [
      "[[17856 48698]\n",
      " [ 1785 64264]]\n"
     ]
    }
   ],
   "source": [
    "print(confusion_matrix(y_test, dt_pred))"
   ]
  },
  {
   "cell_type": "code",
   "execution_count": 44,
   "metadata": {},
   "outputs": [
    {
     "data": {
      "text/plain": [
       "<Figure size 1296x864 with 0 Axes>"
      ]
     },
     "metadata": {},
     "output_type": "display_data"
    },
    {
     "data": {
      "image/png": "[encoded data removed]",
      "text/plain": [
       "<Figure size 432x288 with 2 Axes>"
      ]
     },
     "metadata": {
      "needs_background": "light"
     },
     "output_type": "display_data"
    }
   ],
   "source": [
    "plt.figure(figsize=(18,12))\n",
    "plot_confusion_matrix(dt_model, testing_data, y_test)\n",
    "plt.xlabel(\"Predicted Label\") \n",
    "plt.ylabel(\"Actual Label\") \n",
    "plt.show()"
   ]
  },
  {
   "cell_type": "code",
   "execution_count": 45,
   "metadata": {},
   "outputs": [
    {
     "name": "stdout",
     "output_type": "stream",
     "text": [
      "              precision    recall  f1-score   support\n",
      "\n",
      "           0       0.91      0.27      0.41     66554\n",
      "           1       0.57      0.97      0.72     66049\n",
      "\n",
      "    accuracy                           0.62    132603\n",
      "   macro avg       0.74      0.62      0.57    132603\n",
      "weighted avg       0.74      0.62      0.57    132603\n",
      "\n"
     ]
    }
   ],
   "source": [
    "print(classification_report(y_test,dt_pred))"
   ]
  },
  {
   "cell_type": "markdown",
   "metadata": {},
   "source": [
    "### Random Forest Classifier"
   ]
  },
  {
   "cell_type": "code",
   "execution_count": 46,
   "metadata": {},
   "outputs": [],
   "source": [
    "rf = RandomForestClassifier(n_estimators=100)\n",
    "rf_model = rf.fit(training_data, y_train)"
   ]
  },
  {
   "cell_type": "code",
   "execution_count": 47,
   "metadata": {},
   "outputs": [
    {
     "name": "stdout",
     "output_type": "stream",
     "text": [
      "The Training accuracy using Random Forest Classifier is: 0.9999773759312228\n",
      "The Testing Accuracy using Random Forest Classifier is: 0.7253682043392683\n"
     ]
    }
   ],
   "source": [
    "print(\"The Training accuracy using Random Forest Classifier is:\", rf_model.score(training_data,y_train))\n",
    "print(\"The Testing Accuracy using Random Forest Classifier is:\", rf_model.score(testing_data,y_test))"
   ]
  },
  {
   "cell_type": "code",
   "execution_count": 48,
   "metadata": {},
   "outputs": [],
   "source": [
    "rf_pred = rf_model.predict(testing_data)"
   ]
  },
  {
   "cell_type": "code",
   "execution_count": 49,
   "metadata": {},
   "outputs": [
    {
     "name": "stdout",
     "output_type": "stream",
     "text": [
      "[[31413 35141]\n",
      " [ 1276 64773]]\n"
     ]
    }
   ],
   "source": [
    "print(confusion_matrix(y_test, rf_pred))"
   ]
  },
  {
   "cell_type": "code",
   "execution_count": 50,
   "metadata": {},
   "outputs": [
    {
     "data": {
      "text/plain": [
       "<Figure size 1296x864 with 0 Axes>"
      ]
     },
     "metadata": {},
     "output_type": "display_data"
    },
    {
     "data": {
      "image/png": "[encoded data removed]",
      "text/plain": [
       "<Figure size 432x288 with 2 Axes>"
      ]
     },
     "metadata": {
      "needs_background": "light"
     },
     "output_type": "display_data"
    }
   ],
   "source": [
    "plt.figure(figsize=(18,12))\n",
    "plot_confusion_matrix(rf_model, testing_data, y_test)\n",
    "plt.xlabel(\"Predicted Label\") \n",
    "plt.ylabel(\"Actual Label\") \n",
    "plt.show()"
   ]
  },
  {
   "cell_type": "code",
   "execution_count": null,
   "metadata": {},
   "outputs": [],
   "source": []
  },
  {
   "cell_type": "markdown",
   "metadata": {},
   "source": [
    "### Logistic Regression"
   ]
  },
  {
   "cell_type": "code",
   "execution_count": 51,
   "metadata": {},
   "outputs": [],
   "source": [
    "lr = LogisticRegression()\n",
    "lr_model = lr.fit(training_data, y_train)"
   ]
  },
  {
   "cell_type": "code",
   "execution_count": 52,
   "metadata": {},
   "outputs": [
    {
     "name": "stdout",
     "output_type": "stream",
     "text": [
      "The Training accuracy using Logistic regression is: 0.8288262956319388\n",
      "The Testing Accuracy using Logistic Regression is: 0.8289103564776061\n"
     ]
    }
   ],
   "source": [
    "print(\"The Training accuracy using Logistic regression is:\", lr_model.score(training_data, y_train))\n",
    "print(\"The Testing Accuracy using Logistic Regression is:\", lr_model.score(testing_data, y_test))"
   ]
  },
  {
   "cell_type": "code",
   "execution_count": 53,
   "metadata": {},
   "outputs": [],
   "source": [
    "lr_pred = lr_model.predict(testing_data)"
   ]
  },
  {
   "cell_type": "code",
   "execution_count": 54,
   "metadata": {},
   "outputs": [
    {
     "name": "stdout",
     "output_type": "stream",
     "text": [
      "[[65892   662]\n",
      " [22025 44024]]\n"
     ]
    }
   ],
   "source": [
    "print(confusion_matrix(y_test, lr_pred))"
   ]
  },
  {
   "cell_type": "code",
   "execution_count": 55,
   "metadata": {},
   "outputs": [
    {
     "data": {
      "text/plain": [
       "<Figure size 1296x864 with 0 Axes>"
      ]
     },
     "metadata": {},
     "output_type": "display_data"
    },
    {
     "data": {
      "image/png": "[encoded data removed]",
      "text/plain": [
       "<Figure size 432x288 with 2 Axes>"
      ]
     },
     "metadata": {
      "needs_background": "light"
     },
     "output_type": "display_data"
    }
   ],
   "source": [
    "plt.figure(figsize=(18,12))\n",
    "plot_confusion_matrix(lr_model, testing_data, y_test)\n",
    "plt.xlabel(\"Predicted Label\") \n",
    "plt.ylabel(\"Actual Label\") \n",
    "plt.show()"
   ]
  },
  {
   "cell_type": "code",
   "execution_count": 56,
   "metadata": {},
   "outputs": [
    {
     "name": "stdout",
     "output_type": "stream",
     "text": [
      "              precision    recall  f1-score   support\n",
      "\n",
      "           0       0.75      0.99      0.85     66554\n",
      "           1       0.99      0.67      0.80     66049\n",
      "\n",
      "    accuracy                           0.83    132603\n",
      "   macro avg       0.87      0.83      0.82    132603\n",
      "weighted avg       0.87      0.83      0.82    132603\n",
      "\n"
     ]
    }
   ],
   "source": [
    "print(classification_report(y_test,lr_pred))"
   ]
  },
  {
   "cell_type": "code",
   "execution_count": null,
   "metadata": {},
   "outputs": [],
   "source": []
  },
  {
   "cell_type": "markdown",
   "metadata": {},
   "source": [
    "### Support Vector Machine"
   ]
  },
  {
   "cell_type": "code",
   "execution_count": 57,
   "metadata": {},
   "outputs": [],
   "source": [
    "svm = SVC()\n",
    "svm_model = svm.fit(training_data, y_train)"
   ]
  },
  {
   "cell_type": "code",
   "execution_count": null,
   "metadata": {},
   "outputs": [],
   "source": [
    "print(\"The Training accuracy using Support Vector Machine is:\", svm_model.score(training_data, y_train))\n",
    "print(\"The Testing Accuracy using Support Vector Machine is:\", svm_model.score(testing_data, y_test))"
   ]
  },
  {
   "cell_type": "code",
   "execution_count": null,
   "metadata": {},
   "outputs": [],
   "source": [
    "svc_pred = lr_model.predict(testing_data)"
   ]
  },
  {
   "cell_type": "code",
   "execution_count": null,
   "metadata": {},
   "outputs": [],
   "source": [
    "print(confusion_matrix(y_test, svc_pred))"
   ]
  },
  {
   "cell_type": "code",
   "execution_count": null,
   "metadata": {},
   "outputs": [],
   "source": [
    "plt.figure(figsize=(18,12))\n",
    "plot_confusion_matrix(svm_model, testing_data, y_test)\n",
    "plt.xlabel(\"Predicted Label\") \n",
    "plt.ylabel(\"Actual Label\") \n",
    "plt.show()"
   ]
  },
  {
   "cell_type": "code",
   "execution_count": null,
   "metadata": {},
   "outputs": [],
   "source": [
    "print(classification_report(y_test,svc_pred))"
   ]
  },
  {
   "cell_type": "code",
   "execution_count": null,
   "metadata": {},
   "outputs": [],
   "source": []
  },
  {
   "cell_type": "code",
   "execution_count": null,
   "metadata": {},
   "outputs": [],
   "source": []
  }
 ],
 "metadata": {
  "interpreter": {
   "hash": "224b23c6a71604c6a9186b6cb1e1110924ea62355a6402a92bf6a5db321ad122"
  },
  "kernelspec": {
   "display_name": "Python 3 (ipykernel)",
   "language": "python",
   "name": "python3"
  },
  "language_info": {
   "codemirror_mode": {
    "name": "ipython",
    "version": 3
   },
   "file_extension": ".py",
   "mimetype": "text/x-python",
   "name": "python",
   "nbconvert_exporter": "python",
   "pygments_lexer": "ipython3",
   "version": "3.9.7"
  }
 },
 "nbformat": 4,
 "nbformat_minor": 2
}
